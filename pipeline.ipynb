{
 "cells": [
  {
   "cell_type": "code",
   "execution_count": 1,
   "id": "0476e574",
   "metadata": {},
   "outputs": [
    {
     "name": "stdout",
     "output_type": "stream",
     "text": [
      "Value linkning dataset has been saved to assets/value_linking_dataset_bird_dev.json\n"
     ]
    }
   ],
   "source": [
    "from create_value_linking_dataset import ValueLinkingDatasetProcessor\n",
    "import json\n",
    "import os\n",
    "\n",
    "with open(\"assets/dev_20240627/dev.json\", \"r\") as f:\n",
    "    train_data = json.load(f)\n",
    "with open(\"assets/dev_20240627/dev_tables.json\", \"r\") as f:\n",
    "    schema_data = json.load(f)\n",
    "processor = ValueLinkingDatasetProcessor(schema_data)\n",
    "\n",
    "\n",
    "results = []\n",
    "for query in train_data:\n",
    "    sql_query = query[\"SQL\"]\n",
    "    db_id = query[\"db_id\"]\n",
    "    # Extract tables, columns, and values for the SQL query\n",
    "    tables, columns, values = processor.extract_tables_columns_and_values(sql_query, db_id)\n",
    "    results.append({\n",
    "        \"question\": query[\"question\"],\n",
    "        \"SQL\": sql_query,\n",
    "        \"tables\": tables,\n",
    "        \"columns\": columns,\n",
    "        \"values\": values,\n",
    "        \"db_id\": db_id,\n",
    "        \"source\": \"bird_dev\",\n",
    "        \"evidence\" : query[\"evidence\"]\n",
    "    })\n",
    "\n",
    "# Save results to a JSON file\n",
    "output_file_path = \"assets/value_linking_dataset_bird_dev.json\"\n",
    "with open(output_file_path, \"w\") as outfile:\n",
    "    json.dump(results, outfile, indent=4)\n",
    "    \n",
    "print(f\"Value linkning dataset has been saved to {output_file_path}\")"
   ]
  },
  {
   "cell_type": "code",
   "execution_count": 2,
   "id": "ff0f513c",
   "metadata": {},
   "outputs": [
    {
     "name": "stdout",
     "output_type": "stream",
     "text": [
      "Value linkning dataset has been saved to assets/value_linking_dataset_spider_dev.json\n"
     ]
    }
   ],
   "source": [
    "\n",
    "with open(\"assets/spider_data/dev.json\", \"r\") as f:\n",
    "    train_data = json.load(f)\n",
    "with open(\"assets/spider_data/tables.json\", \"r\") as f:\n",
    "    schema_data = json.load(f)\n",
    "# Initialize the SQLQueryProcessor with schema data\n",
    "processor = ValueLinkingDatasetProcessor(schema_data)\n",
    "\n",
    "\n",
    "results = []\n",
    "for query in train_data:\n",
    "    sql_query = query[\"query\"]\n",
    "    db_id = query[\"db_id\"]\n",
    "    # Extract tables, columns, and values for the SQL query\n",
    "    tables, columns, values = processor.extract_tables_columns_and_values(sql_query, db_id)\n",
    "    results.append({\n",
    "        \"question\": query[\"question\"],\n",
    "        \"SQL\": sql_query,\n",
    "        \"tables\": tables,\n",
    "        \"columns\": columns,\n",
    "        \"values\": values,\n",
    "        \"db_id\": db_id,\n",
    "        \"source\": \"spider_dev\",\n",
    "        \"evidence\" : \"\"\n",
    "    })\n",
    "\n",
    "# Save results to a JSON file\n",
    "output_file_path = \"assets/value_linking_dataset_spider_dev.json\"\n",
    "with open(output_file_path, \"w\") as outfile:\n",
    "    json.dump(results, outfile, indent=4)\n",
    "    \n",
    "print(f\"Value linkning dataset has been saved to {output_file_path}\")\n"
   ]
  },
  {
   "cell_type": "code",
   "execution_count": 3,
   "id": "4caacf9b",
   "metadata": {},
   "outputs": [
    {
     "name": "stdout",
     "output_type": "stream",
     "text": [
      "Value linkning dataset has been saved to assets/value_linking_dataset_spider_test.json\n"
     ]
    }
   ],
   "source": [
    "\n",
    "with open(\"assets/spider_data/test.json\", \"r\") as f:\n",
    "    train_data = json.load(f)\n",
    "with open(\"assets/spider_data/test_tables.json\", \"r\") as f:\n",
    "    schema_data = json.load(f)\n",
    "# Initialize the SQLQueryProcessor with schema data\n",
    "processor = ValueLinkingDatasetProcessor(schema_data)\n",
    "\n",
    "\n",
    "results = []\n",
    "for query in train_data:\n",
    "    sql_query = query[\"query\"]\n",
    "    db_id = query[\"db_id\"]\n",
    "    # Extract tables, columns, and values for the SQL query\n",
    "    tables, columns, values = processor.extract_tables_columns_and_values(sql_query, db_id)\n",
    "    results.append({\n",
    "        \"question\": query[\"question\"],\n",
    "        \"SQL\": sql_query,\n",
    "        \"tables\": tables,\n",
    "        \"columns\": columns,\n",
    "        \"values\": values,\n",
    "        \"db_id\": db_id,\n",
    "        \"source\": \"spider_test\",\n",
    "        \"evidence\" : \"\"\n",
    "    })\n",
    "\n",
    "# Save results to a JSON file\n",
    "output_file_path = \"assets/value_linking_dataset_spider_test.json\"\n",
    "with open(output_file_path, \"w\") as outfile:\n",
    "    json.dump(results, outfile, indent=4)\n",
    "    \n",
    "print(f\"Value linkning dataset has been saved to {output_file_path}\")\n",
    "\n",
    "output_file_path_list = \"assets/value_linking_dataset_list_spider_test.json\"\n",
    "processor.format_value_strings(output_file_path, output_file_path_list)"
   ]
  },
  {
   "cell_type": "code",
   "execution_count": 4,
   "id": "1e89ea05",
   "metadata": {},
   "outputs": [
    {
     "name": "stdout",
     "output_type": "stream",
     "text": [
      "Value linkning dataset has been saved to assets/value_linking_dataset_bird_train.json\n"
     ]
    }
   ],
   "source": [
    "with open(\"assets/train/train.json\", \"r\") as f:\n",
    "    train_data = json.load(f)\n",
    "with open(\"assets/train/train_tables.json\", \"r\") as f:\n",
    "    schema_data = json.load(f)\n",
    "# Initialize the SQLQueryProcessor with schema data\n",
    "processor = ValueLinkingDatasetProcessor(schema_data)\n",
    "\n",
    "\n",
    "results = []\n",
    "for query in train_data:\n",
    "    sql_query = query[\"SQL\"]\n",
    "    db_id = query[\"db_id\"]\n",
    "    # Extract tables, columns, and values for the SQL query\n",
    "    tables, columns, values = processor.extract_tables_columns_and_values(sql_query, db_id)\n",
    "    results.append({\n",
    "        \"question\": query[\"question\"],\n",
    "        \"SQL\": sql_query,\n",
    "        \"tables\": tables,\n",
    "        \"columns\": columns,\n",
    "        \"values\": values,\n",
    "        \"db_id\": db_id,\n",
    "        \"source\": \"bird_train\",\n",
    "    })\n",
    "\n",
    "# Save results to a JSON file\n",
    "output_file_path = \"assets/value_linking_dataset_bird_train.json\"\n",
    "with open(output_file_path, \"w\") as outfile:\n",
    "    json.dump(results, outfile, indent=4)\n",
    "    \n",
    "print(f\"Value linkning dataset has been saved to {output_file_path}\")"
   ]
  },
  {
   "cell_type": "code",
   "execution_count": 4,
   "id": "0415d941",
   "metadata": {},
   "outputs": [
    {
     "name": "stdout",
     "output_type": "stream",
     "text": [
      "Number of records in assets/value_linking_dataset_bird_dev_valid_values.json: 976\n",
      "Number of records in assets/value_linking_dataset_spider_dev_valid_values.json: 122\n",
      "Number of records in assets/value_linking_dataset_spider_test_valid_values.json: 229\n",
      "Number of records in assets/value_linking_valid_values.json: 1327\n",
      "Number of records in assets/value_linking_valid_values_list.json: 1327\n",
      "Number of records in assets/value_linking_valid_values_no_bird_train.json: 1327\n"
     ]
    }
   ],
   "source": [
    "input_paths = [\n",
    "    \"assets/value_linking_dataset_bird_dev.json\",\n",
    "    \"assets/value_linking_dataset_spider_dev.json\",\n",
    "    \"assets/value_linking_dataset_spider_test.json\",\n",
    "]\n",
    "output_paths = [\n",
    "    \"assets/value_linking_dataset_bird_dev_valid_values.json\",\n",
    "    \"assets/value_linking_dataset_spider_dev_valid_values.json\",\n",
    "    \"assets/value_linking_dataset_spider_test_valid_values.json\",\n",
    "]\n",
    "\n",
    "for input_path, output_path in zip(input_paths, output_paths):\n",
    "    processor.filter_json_file(input_path, output_path)\n",
    "    #print the number of records in the output file\n",
    "    with open(output_path, \"r\") as f:\n",
    "        data = json.load(f)\n",
    "    print(f\"Number of records in {output_path}: {len(data)}\")\n",
    "    \n",
    "output_file_path = \"assets/value_linking_valid_values.json\"\n",
    "#merge the three output files and dump to output_file_path\n",
    "merged_data = []\n",
    "for output_path in output_paths:\n",
    "    with open(output_path, \"r\") as f:\n",
    "        data = json.load(f)\n",
    "        merged_data.extend(data)\n",
    "with open(output_file_path, \"w\") as outfile:\n",
    "    json.dump(merged_data, outfile, indent=4)\n",
    "output_file_path_list = \"assets/value_linking_valid_values_list.json\"\n",
    "processor.format_value_strings(output_file_path, output_file_path_list)\n",
    "\n",
    "with open(output_file_path, \"r\") as f:\n",
    "    data = json.load(f)\n",
    "    print(f\"Number of records in {output_file_path}: {len(data)}\")\n",
    "\n",
    "with open(output_file_path_list, \"r\") as f:\n",
    "    data_list = json.load(f)\n",
    "    print(f\"Number of records in {output_file_path_list}: {len(data)}\")\n",
    "\n",
    "final_records = []\n",
    "for record,list_values in zip(data, data_list):\n",
    "    to_append = record\n",
    "    #add the list as a field to the record\n",
    "    to_append[\"values_list\"] = list_values\n",
    "    final_records.append(to_append)\n",
    "# Save results to a JSON file\n",
    "output_file_path = \"assets/value_linking_valid_values_no_bird_train.json\"\n",
    "with open(output_file_path, \"w\") as outfile:\n",
    "    json.dump(final_records, outfile, indent=4)\n",
    "\n",
    "#print the number of records in the output file\n",
    "with open(output_file_path, \"r\") as f:\n",
    "    data = json.load(f)\n",
    "    print(f\"Number of records in {output_file_path}: {len(data)}\")"
   ]
  },
  {
   "cell_type": "code",
   "execution_count": 6,
   "id": "97c47f6d",
   "metadata": {},
   "outputs": [
    {
     "name": "stdout",
     "output_type": "stream",
     "text": [
      "Number of records in assets/value_linking_dataset_bird_dev_valid_values.json: 976\n",
      "Number of records in assets/value_linking_dataset_spider_dev_valid_values.json: 122\n",
      "Number of records in assets/value_linking_dataset_spider_test_valid_values.json: 229\n",
      "Number of records in assets/value_linking_dataset_bird_train_valid_values.json: 6286\n",
      "Number of records in assets/value_linking_valid_values.json: 7613\n",
      "Number of records in assets/value_linking_valid_values_list.json: 7613\n",
      "Number of records in assets/value_linking_valid_values.json: 7613\n"
     ]
    }
   ],
   "source": [
    "input_paths = [\n",
    "    \"assets/value_linking_dataset_bird_dev.json\",\n",
    "    \"assets/value_linking_dataset_spider_dev.json\",\n",
    "    \"assets/value_linking_dataset_spider_test.json\",\n",
    "    \"assets/value_linking_dataset_bird_train.json\"\n",
    "]\n",
    "output_paths = [\n",
    "    \"assets/value_linking_dataset_bird_dev_valid_values.json\",\n",
    "    \"assets/value_linking_dataset_spider_dev_valid_values.json\",\n",
    "    \"assets/value_linking_dataset_spider_test_valid_values.json\",\n",
    "    \"assets/value_linking_dataset_bird_train_valid_values.json\"\n",
    "]\n",
    "\n",
    "for input_path, output_path in zip(input_paths, output_paths):\n",
    "    processor.filter_json_file(input_path, output_path)\n",
    "    #print the number of records in the output file\n",
    "    with open(output_path, \"r\") as f:\n",
    "        data = json.load(f)\n",
    "    print(f\"Number of records in {output_path}: {len(data)}\")\n",
    "    \n",
    "output_file_path = \"assets/value_linking_valid_values.json\"\n",
    "#merge the three output files and dump to output_file_path\n",
    "merged_data = []\n",
    "for output_path in output_paths:\n",
    "    with open(output_path, \"r\") as f:\n",
    "        data = json.load(f)\n",
    "        merged_data.extend(data)\n",
    "with open(output_file_path, \"w\") as outfile:\n",
    "    json.dump(merged_data, outfile, indent=4)\n",
    "output_file_path_list = \"assets/value_linking_valid_values_list.json\"\n",
    "processor.format_value_strings(output_file_path, output_file_path_list)\n",
    "\n",
    "with open(output_file_path, \"r\") as f:\n",
    "    data = json.load(f)\n",
    "    print(f\"Number of records in {output_file_path}: {len(data)}\")\n",
    "\n",
    "with open(output_file_path_list, \"r\") as f:\n",
    "    data_list = json.load(f)\n",
    "    print(f\"Number of records in {output_file_path_list}: {len(data)}\")\n",
    "\n",
    "final_records = []\n",
    "for record,list_values in zip(data, data_list):\n",
    "    to_append = record\n",
    "    #add the list as a field to the record\n",
    "    to_append[\"values_list\"] = list_values\n",
    "    final_records.append(to_append)\n",
    "# Save results to a JSON file\n",
    "output_file_path = \"assets/value_linking_valid_values.json\"\n",
    "with open(output_file_path, \"w\") as outfile:\n",
    "    json.dump(final_records, outfile, indent=4)\n",
    "\n",
    "#print the number of records in the output file\n",
    "with open(output_file_path, \"r\") as f:\n",
    "    data = json.load(f)\n",
    "    print(f\"Number of records in {output_file_path}: {len(data)}\")"
   ]
  },
  {
   "cell_type": "code",
   "execution_count": 5,
   "id": "dcb1a9c4",
   "metadata": {},
   "outputs": [
    {
     "name": "stdout",
     "output_type": "stream",
     "text": [
      "Final number of records: 1006\n"
     ]
    }
   ],
   "source": [
    "from create_value_linking_dataset import ValueLinkingDatasetProcessor\n",
    "input_file=\"assets/value_linking_valid_values_no_bird_train.json\"\n",
    "output_file = \"assets/value_linking_valid_values_exact_no_bird_train.json\"\n",
    "\n",
    "ValueLinkingDatasetProcessor.filter_json_by_question_values(input_file, output_file)"
   ]
  },
  {
   "cell_type": "code",
   "execution_count": 8,
   "id": "1a95008a",
   "metadata": {},
   "outputs": [
    {
     "name": "stdout",
     "output_type": "stream",
     "text": [
      "Final number of records: 5547\n"
     ]
    }
   ],
   "source": [
    "from create_value_linking_dataset import ValueLinkingDatasetProcessor\n",
    "input_file=\"assets/value_linking_valid_values.json\"\n",
    "output_file = \"assets/value_linking_valid_values_exact.json\"\n",
    "\n",
    "ValueLinkingDatasetProcessor.filter_json_by_question_values(input_file, output_file)"
   ]
  },
  {
   "cell_type": "code",
   "execution_count": 6,
   "id": "e1fc12a4",
   "metadata": {},
   "outputs": [
    {
     "name": "stdout",
     "output_type": "stream",
     "text": [
      "Final number of records: 1006\n"
     ]
    }
   ],
   "source": [
    "from create_value_linking_dataset import ValueLinkingDatasetProcessor\n",
    "\n",
    "input_file= \"assets/value_linking_valid_values_exact_no_bird_train.json\"\n",
    "output_file = \"assets/value_linking_valid_values_typos.json\"\n",
    "ValueLinkingDatasetProcessor.introduce_typos_in_question(input_file, output_file)"
   ]
  },
  {
   "cell_type": "code",
   "execution_count": null,
   "id": "27fd36d7",
   "metadata": {},
   "outputs": [],
   "source": [
    "from create_value_linking_dataset import ValueLinkingDatasetProcessor\n",
    "input_file=\"assets/value_linking_valid_values_exact.json\"\n",
    "output_file = \"assets/value_linking_valid_values_synonyms.json\"\n",
    "ValueLinkingDatasetProcessor.generate_synonyms_with_vllm_parsed(input_file, output_file)"
   ]
  },
  {
   "cell_type": "code",
   "execution_count": 3,
   "id": "83124adb",
   "metadata": {},
   "outputs": [],
   "source": [
    "from create_value_linking_dataset import ValueLinkingDatasetProcessor\n",
    "input_file= \"assets/value_linking_valid_values_exact_no_bird_train.json\"\n",
    "output_path = \"CHESS/data/value_linking/value_linking_valid_values_exact_no_bird_train.json\"\n",
    "ValueLinkingDatasetProcessor.prepare_data_chess(input_file, output_path)"
   ]
  },
  {
   "cell_type": "code",
   "execution_count": 3,
   "id": "aeb4e76c",
   "metadata": {},
   "outputs": [],
   "source": [
    "from create_value_linking_dataset import ValueLinkingDatasetProcessor\n",
    "input_file= \"assets/value_linking_valid_values_exact_no_bird_train.json\"\n",
    "output_folder = \"/data/hdd1/users/akouk/value_linking/fresh_value_linking/experimental-analysis-of-value-inking/OmniSQL/value_linking/databases\"\n",
    "ValueLinkingDatasetProcessor.copy_databases(input_file, output_folder)"
   ]
  },
  {
   "cell_type": "code",
   "execution_count": 2,
   "id": "67bd7379",
   "metadata": {},
   "outputs": [],
   "source": [
    "import json\n",
    "def merge_json_files(input_file_paths: list[str], output_file_path: str):\n",
    "    \"\"\"\n",
    "    Merges multiple JSON files (each containing a list of records) into a single\n",
    "    JSON file containing a list of all records.\n",
    "\n",
    "    Args:\n",
    "        input_file_paths: A list of paths to the input JSON files.\n",
    "        output_file_path: The path where the merged JSON file will be saved.\n",
    "    \"\"\"\n",
    "    all_records = []\n",
    "    for file_path in input_file_paths:\n",
    "        with open(file_path, 'r', encoding='utf-8') as infile:\n",
    "            records = json.load(infile)\n",
    "            all_records.extend(records)\n",
    "\n",
    "    with open(output_file_path, 'w', encoding='utf-8') as outfile:\n",
    "        json.dump(all_records, outfile, indent=4)\n",
    "        \n",
    "input_file_paths = [\n",
    "    \"assets/dev_20240627/dev_tables.json\",\n",
    "    \"assets/spider_data/tables.json\",\n",
    "    \"assets/spider_data/test_tables.json\",\n",
    "]\n",
    "\n",
    "output_file_path = \"assets/merged_tables.json\"\n",
    "merge_json_files(input_file_paths, output_file_path)"
   ]
  },
  {
   "cell_type": "code",
   "execution_count": 3,
   "id": "45936a9b",
   "metadata": {},
   "outputs": [],
   "source": [
    "input_file = \"assets/merged_tables.json\"\n",
    "input_folder = \"CHESS/data/value_linking/databses\"\n",
    "output_file = \"CHESS/data/value_linking/tables.json\"\n",
    "\n",
    "import json\n",
    "from pathlib import Path\n",
    "\n",
    "def filter_json_by_existing_db_ids(\n",
    "    merged_json_path: str,\n",
    "    databases_root_folder: str,\n",
    "    output_json_path: str\n",
    "):\n",
    "    \"\"\"\n",
    "    Filters records in a JSON file based on whether their 'db_id' corresponds\n",
    "    to an existing subdirectory in the databases_root_folder.\n",
    "\n",
    "    Args:\n",
    "        merged_json_path: Path to the input JSON file (list of records).\n",
    "        databases_root_folder: Path to the folder containing database subdirectories\n",
    "                               (e.g., 'prepared_databases_output').\n",
    "        output_json_path: Path where the filtered JSON file will be saved.\n",
    "    \"\"\"\n",
    "    db_root = Path(databases_root_folder)\n",
    "    existing_db_ids = set()\n",
    "    for item in db_root.iterdir():\n",
    "        if item.is_dir():\n",
    "            existing_db_ids.add(item.name)\n",
    "\n",
    "    with open(merged_json_path, 'r', encoding='utf-8') as infile:\n",
    "        all_records = json.load(infile)\n",
    "\n",
    "    filtered_records = []\n",
    "    for record in all_records:\n",
    "        record_db_id = record.get(\"db_id\")\n",
    "        if record_db_id and record_db_id in existing_db_ids:\n",
    "            filtered_records.append(record)\n",
    "\n",
    "    with open(output_json_path, 'w', encoding='utf-8') as outfile:\n",
    "        json.dump(filtered_records, outfile, indent=4)\n",
    "\n",
    "filter_json_by_existing_db_ids(\n",
    "    merged_json_path=input_file,\n",
    "    databases_root_folder=input_folder,\n",
    "    output_json_path=output_file\n",
    ")"
   ]
  },
  {
   "cell_type": "code",
   "execution_count": null,
   "id": "b9b07dea",
   "metadata": {},
   "outputs": [
    {
     "name": "stdout",
     "output_type": "stream",
     "text": [
      "[2025-05-11 20:09:39,235] [INFO] [real_accelerator.py:219:get_accelerator] Setting ds_accelerator to cuda (auto detect)\n"
     ]
    },
    {
     "name": "stderr",
     "output_type": "stream",
     "text": [
      "/home/akouk/miniconda3/envs/tolis/bin/../lib/gcc/x86_64-conda-linux-gnu/11.2.0/../../../../x86_64-conda-linux-gnu/bin/ld: cannot find -laio: No such file or directory\n",
      "collect2: error: ld returned 1 exit status\n",
      "/home/akouk/miniconda3/envs/tolis/bin/../lib/gcc/x86_64-conda-linux-gnu/11.2.0/../../../../x86_64-conda-linux-gnu/bin/ld: /home/akouk/miniconda3/envs/tolis/lib/libcufile.so: undefined reference to `pthread_rwlock_trywrlock@GLIBC_2.2.5'\n",
      "/home/akouk/miniconda3/envs/tolis/bin/../lib/gcc/x86_64-conda-linux-gnu/11.2.0/../../../../x86_64-conda-linux-gnu/bin/ld: /home/akouk/miniconda3/envs/tolis/lib/libcufile.so: undefined reference to `pthread_getspecific@GLIBC_2.2.5'\n",
      "/home/akouk/miniconda3/envs/tolis/bin/../lib/gcc/x86_64-conda-linux-gnu/11.2.0/../../../../x86_64-conda-linux-gnu/bin/ld: /home/akouk/miniconda3/envs/tolis/lib/libcufile.so: undefined reference to `pthread_rwlock_timedrdlock@GLIBC_2.2.5'\n",
      "/home/akouk/miniconda3/envs/tolis/bin/../lib/gcc/x86_64-conda-linux-gnu/11.2.0/../../../../x86_64-conda-linux-gnu/bin/ld: /home/akouk/miniconda3/envs/tolis/lib/libcufile.so: undefined reference to `pthread_rwlock_rdlock@GLIBC_2.2.5'\n",
      "/home/akouk/miniconda3/envs/tolis/bin/../lib/gcc/x86_64-conda-linux-gnu/11.2.0/../../../../x86_64-conda-linux-gnu/bin/ld: /lib/x86_64-linux-gnu/librt.so.1: undefined reference to `__libc_unwind_link_get@GLIBC_PRIVATE'\n",
      "/home/akouk/miniconda3/envs/tolis/bin/../lib/gcc/x86_64-conda-linux-gnu/11.2.0/../../../../x86_64-conda-linux-gnu/bin/ld: /home/akouk/miniconda3/envs/tolis/lib/libcufile.so: undefined reference to `shm_open@GLIBC_2.2.5'\n",
      "/home/akouk/miniconda3/envs/tolis/bin/../lib/gcc/x86_64-conda-linux-gnu/11.2.0/../../../../x86_64-conda-linux-gnu/bin/ld: /home/akouk/miniconda3/envs/tolis/lib/libcufile.so: undefined reference to `dlvsym'\n",
      "/home/akouk/miniconda3/envs/tolis/bin/../lib/gcc/x86_64-conda-linux-gnu/11.2.0/../../../../x86_64-conda-linux-gnu/bin/ld: /home/akouk/miniconda3/envs/tolis/lib/libcufile.so: undefined reference to `pthread_rwlockattr_destroy@GLIBC_2.2.5'\n",
      "/home/akouk/miniconda3/envs/tolis/bin/../lib/gcc/x86_64-conda-linux-gnu/11.2.0/../../../../x86_64-conda-linux-gnu/bin/ld: /home/akouk/miniconda3/envs/tolis/lib/libcufile.so: undefined reference to `pthread_key_create@GLIBC_2.2.5'\n",
      "/home/akouk/miniconda3/envs/tolis/bin/../lib/gcc/x86_64-conda-linux-gnu/11.2.0/../../../../x86_64-conda-linux-gnu/bin/ld: /home/akouk/miniconda3/envs/tolis/lib/libcufile.so: undefined reference to `dlopen'\n",
      "/home/akouk/miniconda3/envs/tolis/bin/../lib/gcc/x86_64-conda-linux-gnu/11.2.0/../../../../x86_64-conda-linux-gnu/bin/ld: /home/akouk/miniconda3/envs/tolis/lib/libcufile.so: undefined reference to `pthread_key_delete@GLIBC_2.2.5'\n",
      "/home/akouk/miniconda3/envs/tolis/bin/../lib/gcc/x86_64-conda-linux-gnu/11.2.0/../../../../x86_64-conda-linux-gnu/bin/ld: /home/akouk/miniconda3/envs/tolis/lib/libcufile.so: undefined reference to `pthread_mutexattr_setpshared@GLIBC_2.2.5'\n",
      "/home/akouk/miniconda3/envs/tolis/bin/../lib/gcc/x86_64-conda-linux-gnu/11.2.0/../../../../x86_64-conda-linux-gnu/bin/ld: /home/akouk/miniconda3/envs/tolis/lib/libcufile.so: undefined reference to `pthread_setspecific@GLIBC_2.2.5'\n",
      "/home/akouk/miniconda3/envs/tolis/bin/../lib/gcc/x86_64-conda-linux-gnu/11.2.0/../../../../x86_64-conda-linux-gnu/bin/ld: /home/akouk/miniconda3/envs/tolis/lib/libcufile.so: undefined reference to `pthread_detach@GLIBC_2.2.5'\n",
      "/home/akouk/miniconda3/envs/tolis/bin/../lib/gcc/x86_64-conda-linux-gnu/11.2.0/../../../../x86_64-conda-linux-gnu/bin/ld: /home/akouk/miniconda3/envs/tolis/lib/libcufile.so: undefined reference to `pthread_rwlock_destroy@GLIBC_2.2.5'\n",
      "/home/akouk/miniconda3/envs/tolis/bin/../lib/gcc/x86_64-conda-linux-gnu/11.2.0/../../../../x86_64-conda-linux-gnu/bin/ld: /home/akouk/miniconda3/envs/tolis/lib/libcufile.so: undefined reference to `pthread_rwlock_wrlock@GLIBC_2.2.5'\n",
      "/home/akouk/miniconda3/envs/tolis/bin/../lib/gcc/x86_64-conda-linux-gnu/11.2.0/../../../../x86_64-conda-linux-gnu/bin/ld: /home/akouk/miniconda3/envs/tolis/lib/libcufile.so: undefined reference to `pthread_spin_init@GLIBC_2.2.5'\n",
      "/home/akouk/miniconda3/envs/tolis/bin/../lib/gcc/x86_64-conda-linux-gnu/11.2.0/../../../../x86_64-conda-linux-gnu/bin/ld: /home/akouk/miniconda3/envs/tolis/lib/libcufile.so: undefined reference to `shm_unlink@GLIBC_2.2.5'\n",
      "/home/akouk/miniconda3/envs/tolis/bin/../lib/gcc/x86_64-conda-linux-gnu/11.2.0/../../../../x86_64-conda-linux-gnu/bin/ld: /home/akouk/miniconda3/envs/tolis/lib/libcufile.so: undefined reference to `pthread_spin_unlock@GLIBC_2.2.5'\n",
      "/home/akouk/miniconda3/envs/tolis/bin/../lib/gcc/x86_64-conda-linux-gnu/11.2.0/../../../../x86_64-conda-linux-gnu/bin/ld: /home/akouk/miniconda3/envs/tolis/lib/libcufile.so: undefined reference to `sem_destroy@GLIBC_2.2.5'\n",
      "/home/akouk/miniconda3/envs/tolis/bin/../lib/gcc/x86_64-conda-linux-gnu/11.2.0/../../../../x86_64-conda-linux-gnu/bin/ld: /home/akouk/miniconda3/envs/tolis/lib/libcufile.so: undefined reference to `pthread_condattr_setpshared@GLIBC_2.2.5'\n",
      "/home/akouk/miniconda3/envs/tolis/bin/../lib/gcc/x86_64-conda-linux-gnu/11.2.0/../../../../x86_64-conda-linux-gnu/bin/ld: /home/akouk/miniconda3/envs/tolis/lib/libcufile.so: undefined reference to `sem_timedwait@GLIBC_2.2.5'\n",
      "/home/akouk/miniconda3/envs/tolis/bin/../lib/gcc/x86_64-conda-linux-gnu/11.2.0/../../../../x86_64-conda-linux-gnu/bin/ld: /home/akouk/miniconda3/envs/tolis/lib/libcufile.so: undefined reference to `pthread_once@GLIBC_2.2.5'\n",
      "/home/akouk/miniconda3/envs/tolis/bin/../lib/gcc/x86_64-conda-linux-gnu/11.2.0/../../../../x86_64-conda-linux-gnu/bin/ld: /home/akouk/miniconda3/envs/tolis/lib/libcufile.so: undefined reference to `pthread_spin_lock@GLIBC_2.2.5'\n",
      "/home/akouk/miniconda3/envs/tolis/bin/../lib/gcc/x86_64-conda-linux-gnu/11.2.0/../../../../x86_64-conda-linux-gnu/bin/ld: /home/akouk/miniconda3/envs/tolis/lib/libcufile.so: undefined reference to `pthread_mutexattr_init@GLIBC_2.2.5'\n",
      "/home/akouk/miniconda3/envs/tolis/bin/../lib/gcc/x86_64-conda-linux-gnu/11.2.0/../../../../x86_64-conda-linux-gnu/bin/ld: /home/akouk/miniconda3/envs/tolis/lib/libcufile.so: undefined reference to `sem_wait@GLIBC_2.2.5'\n",
      "/home/akouk/miniconda3/envs/tolis/bin/../lib/gcc/x86_64-conda-linux-gnu/11.2.0/../../../../x86_64-conda-linux-gnu/bin/ld: /home/akouk/miniconda3/envs/tolis/lib/libcufile.so: undefined reference to `pthread_rwlock_unlock@GLIBC_2.2.5'\n",
      "/home/akouk/miniconda3/envs/tolis/bin/../lib/gcc/x86_64-conda-linux-gnu/11.2.0/../../../../x86_64-conda-linux-gnu/bin/ld: /home/akouk/miniconda3/envs/tolis/lib/libcufile.so: undefined reference to `pthread_mutex_trylock@GLIBC_2.2.5'\n",
      "/home/akouk/miniconda3/envs/tolis/bin/../lib/gcc/x86_64-conda-linux-gnu/11.2.0/../../../../x86_64-conda-linux-gnu/bin/ld: /home/akouk/miniconda3/envs/tolis/lib/libcufile.so: undefined reference to `dlclose'\n",
      "/home/akouk/miniconda3/envs/tolis/bin/../lib/gcc/x86_64-conda-linux-gnu/11.2.0/../../../../x86_64-conda-linux-gnu/bin/ld: /home/akouk/miniconda3/envs/tolis/lib/libcufile.so: undefined reference to `pthread_mutexattr_destroy@GLIBC_2.2.5'\n",
      "/home/akouk/miniconda3/envs/tolis/bin/../lib/gcc/x86_64-conda-linux-gnu/11.2.0/../../../../x86_64-conda-linux-gnu/bin/ld: /home/akouk/miniconda3/envs/tolis/lib/libcufile.so: undefined reference to `pthread_join@GLIBC_2.2.5'\n",
      "/home/akouk/miniconda3/envs/tolis/bin/../lib/gcc/x86_64-conda-linux-gnu/11.2.0/../../../../x86_64-conda-linux-gnu/bin/ld: /home/akouk/miniconda3/envs/tolis/lib/libcufile.so: undefined reference to `sem_init@GLIBC_2.2.5'\n",
      "/home/akouk/miniconda3/envs/tolis/bin/../lib/gcc/x86_64-conda-linux-gnu/11.2.0/../../../../x86_64-conda-linux-gnu/bin/ld: /home/akouk/miniconda3/envs/tolis/lib/libcufile.so: undefined reference to `pthread_kill@GLIBC_2.2.5'\n",
      "/home/akouk/miniconda3/envs/tolis/bin/../lib/gcc/x86_64-conda-linux-gnu/11.2.0/../../../../x86_64-conda-linux-gnu/bin/ld: /home/akouk/miniconda3/envs/tolis/lib/libcufile.so: undefined reference to `dlerror'\n",
      "/home/akouk/miniconda3/envs/tolis/bin/../lib/gcc/x86_64-conda-linux-gnu/11.2.0/../../../../x86_64-conda-linux-gnu/bin/ld: /home/akouk/miniconda3/envs/tolis/lib/libcufile.so: undefined reference to `dlsym'\n",
      "/home/akouk/miniconda3/envs/tolis/bin/../lib/gcc/x86_64-conda-linux-gnu/11.2.0/../../../../x86_64-conda-linux-gnu/bin/ld: /home/akouk/miniconda3/envs/tolis/lib/libcufile.so: undefined reference to `pthread_spin_destroy@GLIBC_2.2.5'\n",
      "/home/akouk/miniconda3/envs/tolis/bin/../lib/gcc/x86_64-conda-linux-gnu/11.2.0/../../../../x86_64-conda-linux-gnu/bin/ld: /home/akouk/miniconda3/envs/tolis/lib/libcufile.so: undefined reference to `pthread_rwlockattr_init@GLIBC_2.2.5'\n",
      "/home/akouk/miniconda3/envs/tolis/bin/../lib/gcc/x86_64-conda-linux-gnu/11.2.0/../../../../x86_64-conda-linux-gnu/bin/ld: /home/akouk/miniconda3/envs/tolis/lib/libcufile.so: undefined reference to `pthread_rwlock_timedwrlock@GLIBC_2.2.5'\n",
      "/home/akouk/miniconda3/envs/tolis/bin/../lib/gcc/x86_64-conda-linux-gnu/11.2.0/../../../../x86_64-conda-linux-gnu/bin/ld: /home/akouk/miniconda3/envs/tolis/lib/libcufile.so: undefined reference to `sem_post@GLIBC_2.2.5'\n",
      "/home/akouk/miniconda3/envs/tolis/bin/../lib/gcc/x86_64-conda-linux-gnu/11.2.0/../../../../x86_64-conda-linux-gnu/bin/ld: /home/akouk/miniconda3/envs/tolis/lib/libstdc++.so.6: undefined reference to `dladdr@GLIBC_2.2.5'\n",
      "/home/akouk/miniconda3/envs/tolis/bin/../lib/gcc/x86_64-conda-linux-gnu/11.2.0/../../../../x86_64-conda-linux-gnu/bin/ld: /home/akouk/miniconda3/envs/tolis/lib/libcufile.so: undefined reference to `clock_gettime@GLIBC_2.2.5'\n",
      "/home/akouk/miniconda3/envs/tolis/bin/../lib/gcc/x86_64-conda-linux-gnu/11.2.0/../../../../x86_64-conda-linux-gnu/bin/ld: /home/akouk/miniconda3/envs/tolis/lib/libcufile.so: undefined reference to `pthread_create@GLIBC_2.2.5'\n",
      "/home/akouk/miniconda3/envs/tolis/bin/../lib/gcc/x86_64-conda-linux-gnu/11.2.0/../../../../x86_64-conda-linux-gnu/bin/ld: /home/akouk/miniconda3/envs/tolis/lib/libcufile.so: undefined reference to `pthread_rwlock_init@GLIBC_2.2.5'\n",
      "/home/akouk/miniconda3/envs/tolis/bin/../lib/gcc/x86_64-conda-linux-gnu/11.2.0/../../../../x86_64-conda-linux-gnu/bin/ld: /home/akouk/miniconda3/envs/tolis/lib/libcufile.so: undefined reference to `pthread_rwlockattr_setpshared@GLIBC_2.2.5'\n",
      "/home/akouk/miniconda3/envs/tolis/bin/../lib/gcc/x86_64-conda-linux-gnu/11.2.0/../../../../x86_64-conda-linux-gnu/bin/ld: /home/akouk/miniconda3/envs/tolis/lib/libcufile.so: undefined reference to `pthread_rwlock_tryrdlock@GLIBC_2.2.5'\n",
      "/home/akouk/miniconda3/envs/tolis/bin/../lib/gcc/x86_64-conda-linux-gnu/11.2.0/../../../../x86_64-conda-linux-gnu/bin/ld: /home/akouk/miniconda3/envs/tolis/lib/libcufile.so: undefined reference to `pthread_mutexattr_settype@GLIBC_2.2.5'\n",
      "/home/akouk/miniconda3/envs/tolis/bin/../lib/gcc/x86_64-conda-linux-gnu/11.2.0/../../../../x86_64-conda-linux-gnu/bin/ld: /lib/x86_64-linux-gnu/libm.so.6: undefined reference to `__strtof128_nan@GLIBC_PRIVATE'\n",
      "/home/akouk/miniconda3/envs/tolis/bin/../lib/gcc/x86_64-conda-linux-gnu/11.2.0/../../../../x86_64-conda-linux-gnu/bin/ld: /home/akouk/miniconda3/envs/tolis/lib/libcufile.so: undefined reference to `sem_trywait@GLIBC_2.2.5'\n",
      "collect2: error: ld returned 1 exit status\n",
      "100%|██████████| 1006/1006 [00:10<00:00, 96.13it/s]\n"
     ]
    },
    {
     "ename": "",
     "evalue": "",
     "output_type": "error",
     "traceback": [
      "\u001b[1;31mThe Kernel crashed while executing code in the current cell or a previous cell. \n",
      "\u001b[1;31mPlease review the code in the cell(s) to identify a possible cause of the failure. \n",
      "\u001b[1;31mClick <a href='https://aka.ms/vscodeJupyterKernelCrash'>here</a> for more info. \n",
      "\u001b[1;31mView Jupyter <a href='command:jupyter.viewOutput'>log</a> for further details."
     ]
    }
   ],
   "source": [
    "from create_value_linking_dataset import ValueLinkingDatasetProcessor\n",
    "ValueLinkingDatasetProcessor.generate_prompts_for_eval_open_search(\"OpenSearch-SQL/value_linking/data_preprocess/dev.json\",\"OpenSearch-SQL/Bird/fewshot/questions.json\",\"OpenSearch-SQL/value_linking/fewshot/questions.json\")"
   ]
  },
  {
   "cell_type": "code",
   "execution_count": 1,
   "id": "82328a31",
   "metadata": {},
   "outputs": [
    {
     "name": "stdout",
     "output_type": "stream",
     "text": [
      "2713\n"
     ]
    }
   ],
   "source": [
    "import json\n",
    "\n",
    "with open('assets/value_linking_valid_values_exact.json', 'r') as f:\n",
    "    data = json.load(f)\n",
    "\n",
    "count_with_spaces = 0\n",
    "for item in data:\n",
    "    for val_obj in item[\"values\"]:\n",
    "        if \" \" in val_obj[\"value\"]:\n",
    "            count_with_spaces += 1\n",
    "print(count_with_spaces)"
   ]
  }
 ],
 "metadata": {
  "kernelspec": {
   "display_name": "tolis",
   "language": "python",
   "name": "python3"
  },
  "language_info": {
   "codemirror_mode": {
    "name": "ipython",
    "version": 3
   },
   "file_extension": ".py",
   "mimetype": "text/x-python",
   "name": "python",
   "nbconvert_exporter": "python",
   "pygments_lexer": "ipython3",
   "version": "3.11.9"
  }
 },
 "nbformat": 4,
 "nbformat_minor": 5
}
